{
 "cells": [
  {
   "cell_type": "code",
   "execution_count": 11,
   "metadata": {},
   "outputs": [
    {
     "name": "stdout",
     "output_type": "stream",
     "text": [
      "The autoreload extension is already loaded. To reload it, use:\n",
      "  %reload_ext autoreload\n"
     ]
    }
   ],
   "source": [
    "%load_ext autoreload\n",
    "%autoreload 2\n",
    "\n",
    "import pandas as pd\n",
    "import numpy as np\n",
    "import matplotlib.pyplot as plt\n",
    "import torch\n",
    "from nltk.tokenize import sent_tokenize, word_tokenize\n",
    "from tqdm import tqdm\n",
    "from sklearn.metrics import balanced_accuracy_score, accuracy_score\n",
    "from coherenceModel import *\n",
    "from pipe import dedup, groupby, where, select, sort, chain, traverse"
   ]
  },
  {
   "cell_type": "code",
   "execution_count": 13,
   "metadata": {},
   "outputs": [
    {
     "data": {
      "text/html": [
       "<div>\n",
       "<style scoped>\n",
       "    .dataframe tbody tr th:only-of-type {\n",
       "        vertical-align: middle;\n",
       "    }\n",
       "\n",
       "    .dataframe tbody tr th {\n",
       "        vertical-align: top;\n",
       "    }\n",
       "\n",
       "    .dataframe thead th {\n",
       "        text-align: right;\n",
       "    }\n",
       "</style>\n",
       "<table border=\"1\" class=\"dataframe\">\n",
       "  <thead>\n",
       "    <tr style=\"text-align: right;\">\n",
       "      <th></th>\n",
       "      <th>content</th>\n",
       "      <th>subreddit</th>\n",
       "    </tr>\n",
       "  </thead>\n",
       "  <tbody>\n",
       "    <tr>\n",
       "      <th>0</th>\n",
       "      <td>Well (and this is just speaking about our grou...</td>\n",
       "      <td>AskAcademia</td>\n",
       "    </tr>\n",
       "    <tr>\n",
       "      <th>1</th>\n",
       "      <td>I did this. I got my masters in mathematics th...</td>\n",
       "      <td>AskAcademia</td>\n",
       "    </tr>\n",
       "    <tr>\n",
       "      <th>2</th>\n",
       "      <td>I would say it's most definitely a possibility...</td>\n",
       "      <td>AskAcademia</td>\n",
       "    </tr>\n",
       "    <tr>\n",
       "      <th>3</th>\n",
       "      <td>I sort of did this, but from undergrad to grad...</td>\n",
       "      <td>AskAcademia</td>\n",
       "    </tr>\n",
       "    <tr>\n",
       "      <th>4</th>\n",
       "      <td>Sure, it's called going to grad school ;-) I'm...</td>\n",
       "      <td>AskAcademia</td>\n",
       "    </tr>\n",
       "    <tr>\n",
       "      <th>...</th>\n",
       "      <td>...</td>\n",
       "      <td>...</td>\n",
       "    </tr>\n",
       "    <tr>\n",
       "      <th>595</th>\n",
       "      <td>The weapons are not hitscan, but the bullet tr...</td>\n",
       "      <td>gaming</td>\n",
       "    </tr>\n",
       "    <tr>\n",
       "      <th>596</th>\n",
       "      <td>a few friends of mine started playing rift. on...</td>\n",
       "      <td>gaming</td>\n",
       "    </tr>\n",
       "    <tr>\n",
       "      <th>597</th>\n",
       "      <td>I like achievements and all, but it's rare tha...</td>\n",
       "      <td>gaming</td>\n",
       "    </tr>\n",
       "    <tr>\n",
       "      <th>598</th>\n",
       "      <td>speaking form an independent developer standpo...</td>\n",
       "      <td>gaming</td>\n",
       "    </tr>\n",
       "    <tr>\n",
       "      <th>599</th>\n",
       "      <td>wow, not one of you understands exchange rates...</td>\n",
       "      <td>gaming</td>\n",
       "    </tr>\n",
       "  </tbody>\n",
       "</table>\n",
       "<p>600 rows × 2 columns</p>\n",
       "</div>"
      ],
      "text/plain": [
       "                                               content    subreddit\n",
       "0    Well (and this is just speaking about our grou...  AskAcademia\n",
       "1    I did this. I got my masters in mathematics th...  AskAcademia\n",
       "2    I would say it's most definitely a possibility...  AskAcademia\n",
       "3    I sort of did this, but from undergrad to grad...  AskAcademia\n",
       "4    Sure, it's called going to grad school ;-) I'm...  AskAcademia\n",
       "..                                                 ...          ...\n",
       "595  The weapons are not hitscan, but the bullet tr...       gaming\n",
       "596  a few friends of mine started playing rift. on...       gaming\n",
       "597  I like achievements and all, but it's rare tha...       gaming\n",
       "598  speaking form an independent developer standpo...       gaming\n",
       "599  wow, not one of you understands exchange rates...       gaming\n",
       "\n",
       "[600 rows x 2 columns]"
      ]
     },
     "execution_count": 13,
     "metadata": {},
     "output_type": "execute_result"
    }
   ],
   "source": [
    "reddit_df = pd.read_csv('reddit.csv').drop('Unnamed: 0', axis=1)\n",
    "reddit_df"
   ]
  },
  {
   "cell_type": "code",
   "execution_count": 14,
   "metadata": {},
   "outputs": [],
   "source": [
    "reddit_df[\"num_sent\"] = reddit_df.content.apply(lambda x : len(sent_tokenize(x)))"
   ]
  },
  {
   "cell_type": "code",
   "execution_count": 15,
   "metadata": {},
   "outputs": [],
   "source": [
    "reddit_df[\"num_words\"] = reddit_df.content.apply(lambda x : len(word_tokenize(x)))"
   ]
  },
  {
   "cell_type": "code",
   "execution_count": 30,
   "metadata": {},
   "outputs": [
    {
     "data": {
      "text/plain": [
       "['AskAcademia', 'LawSchool', 'AskReddit', 'science', 'funny', 'gaming']"
      ]
     },
     "execution_count": 30,
     "metadata": {},
     "output_type": "execute_result"
    }
   ],
   "source": [
    "subreddits = list(reddit_df[\"subreddit\"].value_counts().keys())\n",
    "subreddits"
   ]
  },
  {
   "cell_type": "code",
   "execution_count": 16,
   "metadata": {},
   "outputs": [
    {
     "data": {
      "text/html": [
       "<div>\n",
       "<style scoped>\n",
       "    .dataframe tbody tr th:only-of-type {\n",
       "        vertical-align: middle;\n",
       "    }\n",
       "\n",
       "    .dataframe tbody tr th {\n",
       "        vertical-align: top;\n",
       "    }\n",
       "\n",
       "    .dataframe thead th {\n",
       "        text-align: right;\n",
       "    }\n",
       "</style>\n",
       "<table border=\"1\" class=\"dataframe\">\n",
       "  <thead>\n",
       "    <tr style=\"text-align: right;\">\n",
       "      <th></th>\n",
       "      <th>content</th>\n",
       "      <th>subreddit</th>\n",
       "      <th>num_sent</th>\n",
       "      <th>num_words</th>\n",
       "    </tr>\n",
       "  </thead>\n",
       "  <tbody>\n",
       "    <tr>\n",
       "      <th>0</th>\n",
       "      <td>Well (and this is just speaking about our grou...</td>\n",
       "      <td>AskAcademia</td>\n",
       "      <td>23</td>\n",
       "      <td>533</td>\n",
       "    </tr>\n",
       "    <tr>\n",
       "      <th>1</th>\n",
       "      <td>I did this. I got my masters in mathematics th...</td>\n",
       "      <td>AskAcademia</td>\n",
       "      <td>14</td>\n",
       "      <td>275</td>\n",
       "    </tr>\n",
       "    <tr>\n",
       "      <th>2</th>\n",
       "      <td>I would say it's most definitely a possibility...</td>\n",
       "      <td>AskAcademia</td>\n",
       "      <td>8</td>\n",
       "      <td>226</td>\n",
       "    </tr>\n",
       "    <tr>\n",
       "      <th>3</th>\n",
       "      <td>I sort of did this, but from undergrad to grad...</td>\n",
       "      <td>AskAcademia</td>\n",
       "      <td>7</td>\n",
       "      <td>98</td>\n",
       "    </tr>\n",
       "    <tr>\n",
       "      <th>4</th>\n",
       "      <td>Sure, it's called going to grad school ;-) I'm...</td>\n",
       "      <td>AskAcademia</td>\n",
       "      <td>5</td>\n",
       "      <td>150</td>\n",
       "    </tr>\n",
       "    <tr>\n",
       "      <th>...</th>\n",
       "      <td>...</td>\n",
       "      <td>...</td>\n",
       "      <td>...</td>\n",
       "      <td>...</td>\n",
       "    </tr>\n",
       "    <tr>\n",
       "      <th>595</th>\n",
       "      <td>The weapons are not hitscan, but the bullet tr...</td>\n",
       "      <td>gaming</td>\n",
       "      <td>6</td>\n",
       "      <td>185</td>\n",
       "    </tr>\n",
       "    <tr>\n",
       "      <th>596</th>\n",
       "      <td>a few friends of mine started playing rift. on...</td>\n",
       "      <td>gaming</td>\n",
       "      <td>6</td>\n",
       "      <td>105</td>\n",
       "    </tr>\n",
       "    <tr>\n",
       "      <th>597</th>\n",
       "      <td>I like achievements and all, but it's rare tha...</td>\n",
       "      <td>gaming</td>\n",
       "      <td>4</td>\n",
       "      <td>61</td>\n",
       "    </tr>\n",
       "    <tr>\n",
       "      <th>598</th>\n",
       "      <td>speaking form an independent developer standpo...</td>\n",
       "      <td>gaming</td>\n",
       "      <td>7</td>\n",
       "      <td>142</td>\n",
       "    </tr>\n",
       "    <tr>\n",
       "      <th>599</th>\n",
       "      <td>wow, not one of you understands exchange rates...</td>\n",
       "      <td>gaming</td>\n",
       "      <td>4</td>\n",
       "      <td>172</td>\n",
       "    </tr>\n",
       "  </tbody>\n",
       "</table>\n",
       "<p>600 rows × 4 columns</p>\n",
       "</div>"
      ],
      "text/plain": [
       "                                               content    subreddit  num_sent   \n",
       "0    Well (and this is just speaking about our grou...  AskAcademia        23  \\\n",
       "1    I did this. I got my masters in mathematics th...  AskAcademia        14   \n",
       "2    I would say it's most definitely a possibility...  AskAcademia         8   \n",
       "3    I sort of did this, but from undergrad to grad...  AskAcademia         7   \n",
       "4    Sure, it's called going to grad school ;-) I'm...  AskAcademia         5   \n",
       "..                                                 ...          ...       ...   \n",
       "595  The weapons are not hitscan, but the bullet tr...       gaming         6   \n",
       "596  a few friends of mine started playing rift. on...       gaming         6   \n",
       "597  I like achievements and all, but it's rare tha...       gaming         4   \n",
       "598  speaking form an independent developer standpo...       gaming         7   \n",
       "599  wow, not one of you understands exchange rates...       gaming         4   \n",
       "\n",
       "     num_words  \n",
       "0          533  \n",
       "1          275  \n",
       "2          226  \n",
       "3           98  \n",
       "4          150  \n",
       "..         ...  \n",
       "595        185  \n",
       "596        105  \n",
       "597         61  \n",
       "598        142  \n",
       "599        172  \n",
       "\n",
       "[600 rows x 4 columns]"
      ]
     },
     "execution_count": 16,
     "metadata": {},
     "output_type": "execute_result"
    }
   ],
   "source": [
    "reddit_df"
   ]
  },
  {
   "cell_type": "code",
   "execution_count": 38,
   "metadata": {},
   "outputs": [
    {
     "name": "stdout",
     "output_type": "stream",
     "text": [
      "Mean of all: 224.16833333333332\n",
      "SD of all: 206.7693723222943\n"
     ]
    },
    {
     "data": {
      "image/png": "[encoded data removed]",
      "text/plain": [
       "<Figure size 640x480 with 1 Axes>"
      ]
     },
     "metadata": {},
     "output_type": "display_data"
    }
   ],
   "source": [
    "def get_statistics(series, title):\n",
    "  print(f\"Mean of {title}: {np.mean(series.values)}\")\n",
    "  print(f\"SD of {title}: {np.sqrt(np.var(series.values))}\")\n",
    "  series.rename(title).hist(legend=True)\n",
    "  \n",
    "get_statistics(reddit_df.num_words, \"all\")"
   ]
  },
  {
   "cell_type": "code",
   "execution_count": 42,
   "metadata": {},
   "outputs": [
    {
     "name": "stdout",
     "output_type": "stream",
     "text": [
      "Mean of AskAcademia: 12.98\n",
      "SD of AskAcademia: 9.95989959788752\n",
      "Mean of LawSchool: 12.97\n",
      "SD of LawSchool: 9.982439581585256\n",
      "Mean of AskReddit: 12.21\n",
      "SD of AskReddit: 10.085925837522304\n",
      "Mean of science: 8.95\n",
      "SD of science: 8.911088597921133\n",
      "Mean of funny: 7.71\n",
      "SD of funny: 7.783694495546443\n",
      "Mean of gaming: 9.04\n",
      "SD of gaming: 10.347869345908848\n"
     ]
    },
    {
     "data": {
      "image/png": "[encoded data removed]",
      "text/plain": [
       "<Figure size 640x480 with 1 Axes>"
      ]
     },
     "metadata": {},
     "output_type": "display_data"
    }
   ],
   "source": [
    "for subreddit in subreddits:\n",
    "    get_statistics(reddit_df[reddit_df[\"subreddit\"] == subreddit].num_sent, subreddit)"
   ]
  },
  {
   "cell_type": "code",
   "execution_count": 46,
   "metadata": {},
   "outputs": [
    {
     "data": {
      "text/plain": [
       "subreddit\n",
       "AskAcademia    88\n",
       "LawSchool      82\n",
       "AskReddit      81\n",
       "science        77\n",
       "gaming         68\n",
       "funny          55\n",
       "Name: count, dtype: int64"
      ]
     },
     "execution_count": 46,
     "metadata": {},
     "output_type": "execute_result"
    }
   ],
   "source": [
    "filtered_subreddits = reddit_df[reddit_df[\"num_sent\"] >= 5]\n",
    "filtered_subreddits[\"subreddit\"].value_counts()"
   ]
  },
  {
   "cell_type": "code",
   "execution_count": 51,
   "metadata": {},
   "outputs": [
    {
     "name": "stdout",
     "output_type": "stream",
     "text": [
      "cuda\n"
     ]
    }
   ],
   "source": [
    "device = 'cuda' if torch.cuda.is_available() else 'cpu'\n",
    "print(device)"
   ]
  },
  {
   "cell_type": "code",
   "execution_count": 59,
   "metadata": {},
   "outputs": [],
   "source": [
    "basic_model = FFNN(5, device)\n",
    "basic_model.load_state_dict(torch.load('best_rnn.pt'))\n",
    "basic_model.eval()\n",
    "basic_model.to(device)\n",
    "wsize = 5"
   ]
  },
  {
   "cell_type": "code",
   "execution_count": 48,
   "metadata": {},
   "outputs": [],
   "source": [
    "import gensim.downloader\n",
    "embed = gensim.downloader.load(\"glove-wiki-gigaword-50\")\n",
    "unk = np.mean(embed.vectors, axis=0)"
   ]
  },
  {
   "cell_type": "code",
   "execution_count": 62,
   "metadata": {},
   "outputs": [],
   "source": [
    "def get_windows(post, window_size):\n",
    "    sentences = get_paragraph_embedding_tup(embed, unk, post)\n",
    "    num_windows = len(sentences) - window_size + 1\n",
    "                \n",
    "    if num_windows < 0:\n",
    "        print(f\"WARNING: Post did not have enough sentences for window size {window_size}; returning None\")\n",
    "        return None\n",
    "    \n",
    "    return [tensor_of_tupled_par_embed(sentences[i:i+window_size]) for i in range(num_windows)]"
   ]
  },
  {
   "cell_type": "code",
   "execution_count": 73,
   "metadata": {},
   "outputs": [],
   "source": [
    "def get_coherence(post):\n",
    "    windows_of_post = get_windows(post, wsize)\n",
    "    with torch.no_grad():\n",
    "        windows = [[s.to(device) for s in window] for window in windows_of_post]\n",
    "        scores = torch.sigmoid(basic_model(windows))\n",
    "        return torch.mean(scores).tolist()"
   ]
  },
  {
   "cell_type": "code",
   "execution_count": 74,
   "metadata": {},
   "outputs": [
    {
     "name": "stderr",
     "output_type": "stream",
     "text": [
      "/tmp/ipykernel_18873/2578076136.py:1: SettingWithCopyWarning: \n",
      "A value is trying to be set on a copy of a slice from a DataFrame.\n",
      "Try using .loc[row_indexer,col_indexer] = value instead\n",
      "\n",
      "See the caveats in the documentation: https://pandas.pydata.org/pandas-docs/stable/user_guide/indexing.html#returning-a-view-versus-a-copy\n",
      "  filtered_subreddits['coherence'] = filtered_subreddits.content.apply(get_coherence)\n"
     ]
    },
    {
     "data": {
      "text/plain": [
       "<Axes: >"
      ]
     },
     "execution_count": 74,
     "metadata": {},
     "output_type": "execute_result"
    },
    {
     "data": {
      "image/png": "[encoded data removed]",
      "text/plain": [
       "<Figure size 640x480 with 1 Axes>"
      ]
     },
     "metadata": {},
     "output_type": "display_data"
    }
   ],
   "source": [
    "filtered_subreddits['coherence'] = filtered_subreddits.content.apply(get_coherence)\n",
    "filtered_subreddits.coherence.hist()"
   ]
  },
  {
   "cell_type": "code",
   "execution_count": 75,
   "metadata": {},
   "outputs": [
    {
     "name": "stdout",
     "output_type": "stream",
     "text": [
      "Mean of AskAcademia: 0.5568155585364862\n",
      "SD of AskAcademia: 0.1255734131829495\n",
      "Mean of LawSchool: 0.5201205318657364\n",
      "SD of LawSchool: 0.11599824941637735\n",
      "Mean of AskReddit: 0.5238010141952538\n",
      "SD of AskReddit: 0.15214121443036013\n",
      "Mean of science: 0.5463853699046296\n",
      "SD of science: 0.17785123923051263\n",
      "Mean of funny: 0.5262214897708459\n",
      "SD of funny: 0.1533847597014325\n",
      "Mean of gaming: 0.5236281682463253\n",
      "SD of gaming: 0.1491866360461201\n"
     ]
    },
    {
     "data": {
      "image/png": "[encoded data removed]",
      "text/plain": [
       "<Figure size 640x480 with 1 Axes>"
      ]
     },
     "metadata": {},
     "output_type": "display_data"
    }
   ],
   "source": [
    "for subreddit in subreddits:\n",
    "    get_statistics(filtered_subreddits[filtered_subreddits[\"subreddit\"] == subreddit].coherence, subreddit)"
   ]
  },
  {
   "cell_type": "code",
   "execution_count": 76,
   "metadata": {},
   "outputs": [
    {
     "data": {
      "text/html": [
       "<div>\n",
       "<style scoped>\n",
       "    .dataframe tbody tr th:only-of-type {\n",
       "        vertical-align: middle;\n",
       "    }\n",
       "\n",
       "    .dataframe tbody tr th {\n",
       "        vertical-align: top;\n",
       "    }\n",
       "\n",
       "    .dataframe thead th {\n",
       "        text-align: right;\n",
       "    }\n",
       "</style>\n",
       "<table border=\"1\" class=\"dataframe\">\n",
       "  <thead>\n",
       "    <tr style=\"text-align: right;\">\n",
       "      <th></th>\n",
       "      <th>paragraph</th>\n",
       "      <th>is_coherent</th>\n",
       "    </tr>\n",
       "  </thead>\n",
       "  <tbody>\n",
       "    <tr>\n",
       "      <th>0</th>\n",
       "      <td>The preflight inspection of the fuel tanks by ...</td>\n",
       "      <td>1</td>\n",
       "    </tr>\n",
       "    <tr>\n",
       "      <th>1</th>\n",
       "      <td>The pilot reported that he was cleared to 4,00...</td>\n",
       "      <td>1</td>\n",
       "    </tr>\n",
       "    <tr>\n",
       "      <th>2</th>\n",
       "      <td>The instrument-rated private pilot lost contro...</td>\n",
       "      <td>1</td>\n",
       "    </tr>\n",
       "    <tr>\n",
       "      <th>3</th>\n",
       "      <td>The non-instrument rated private pilot was rec...</td>\n",
       "      <td>1</td>\n",
       "    </tr>\n",
       "    <tr>\n",
       "      <th>4</th>\n",
       "      <td>The commercial pilot reported a partial power ...</td>\n",
       "      <td>1</td>\n",
       "    </tr>\n",
       "    <tr>\n",
       "      <th>...</th>\n",
       "      <td>...</td>\n",
       "      <td>...</td>\n",
       "    </tr>\n",
       "    <tr>\n",
       "      <th>1995</th>\n",
       "      <td>Personnel at the airport reported that the bat...</td>\n",
       "      <td>1</td>\n",
       "    </tr>\n",
       "    <tr>\n",
       "      <th>1996</th>\n",
       "      <td>The student pilot reported that he was practic...</td>\n",
       "      <td>1</td>\n",
       "    </tr>\n",
       "    <tr>\n",
       "      <th>1997</th>\n",
       "      <td>The commercial certificated pilot was maneuver...</td>\n",
       "      <td>1</td>\n",
       "    </tr>\n",
       "    <tr>\n",
       "      <th>1998</th>\n",
       "      <td>The private pilot of the amateur built experim...</td>\n",
       "      <td>1</td>\n",
       "    </tr>\n",
       "    <tr>\n",
       "      <th>1999</th>\n",
       "      <td>Approximately 5 minutes after takeoff, at an a...</td>\n",
       "      <td>1</td>\n",
       "    </tr>\n",
       "  </tbody>\n",
       "</table>\n",
       "<p>2000 rows × 2 columns</p>\n",
       "</div>"
      ],
      "text/plain": [
       "                                              paragraph  is_coherent\n",
       "0     The preflight inspection of the fuel tanks by ...            1\n",
       "1     The pilot reported that he was cleared to 4,00...            1\n",
       "2     The instrument-rated private pilot lost contro...            1\n",
       "3     The non-instrument rated private pilot was rec...            1\n",
       "4     The commercial pilot reported a partial power ...            1\n",
       "...                                                 ...          ...\n",
       "1995  Personnel at the airport reported that the bat...            1\n",
       "1996  The student pilot reported that he was practic...            1\n",
       "1997  The commercial certificated pilot was maneuver...            1\n",
       "1998  The private pilot of the amateur built experim...            1\n",
       "1999  Approximately 5 minutes after takeoff, at an a...            1\n",
       "\n",
       "[2000 rows x 2 columns]"
      ]
     },
     "execution_count": 76,
     "metadata": {},
     "output_type": "execute_result"
    }
   ],
   "source": [
    "aviation_df = pd.read_csv('moreAviationPerms.csv')\n",
    "only_coherent_aviation = aviation_df[aviation_df['is_coherent'] == 1]\n",
    "only_coherent_aviation"
   ]
  },
  {
   "cell_type": "code",
   "execution_count": 78,
   "metadata": {},
   "outputs": [
    {
     "name": "stderr",
     "output_type": "stream",
     "text": [
      "/tmp/ipykernel_18873/217935567.py:1: SettingWithCopyWarning: \n",
      "A value is trying to be set on a copy of a slice from a DataFrame.\n",
      "Try using .loc[row_indexer,col_indexer] = value instead\n",
      "\n",
      "See the caveats in the documentation: https://pandas.pydata.org/pandas-docs/stable/user_guide/indexing.html#returning-a-view-versus-a-copy\n",
      "  only_coherent_aviation['coherence'] = only_coherent_aviation.paragraph.apply(get_coherence)\n"
     ]
    },
    {
     "data": {
      "text/plain": [
       "<Axes: >"
      ]
     },
     "execution_count": 78,
     "metadata": {},
     "output_type": "execute_result"
    },
    {
     "data": {
      "image/png": "[encoded data removed]",
      "text/plain": [
       "<Figure size 640x480 with 1 Axes>"
      ]
     },
     "metadata": {},
     "output_type": "display_data"
    }
   ],
   "source": [
    "only_coherent_aviation['coherence'] = only_coherent_aviation.paragraph.apply(get_coherence)\n",
    "only_coherent_aviation.coherence.hist()"
   ]
  },
  {
   "cell_type": "code",
   "execution_count": 79,
   "metadata": {},
   "outputs": [],
   "source": [
    "only_coherent_aviation.to_csv('aviationWithCoherence.csv')\n",
    "filtered_subreddits.to_csv('subredditsWithCoherence.csv')"
   ]
  }
 ],
 "metadata": {
  "kernelspec": {
   "display_name": ".venv",
   "language": "python",
   "name": "python3"
  },
  "language_info": {
   "codemirror_mode": {
    "name": "ipython",
    "version": 3
   },
   "file_extension": ".py",
   "mimetype": "text/x-python",
   "name": "python",
   "nbconvert_exporter": "python",
   "pygments_lexer": "ipython3",
   "version": "3.8.10"
  },
  "orig_nbformat": 4,
  "vscode": {
   "interpreter": {
    "hash": "dec0f04a0c497e8ad4a75383cb1718df73f989e41df9817b9ead081e3efac1a8"
   }
  }
 },
 "nbformat": 4,
 "nbformat_minor": 2
}
