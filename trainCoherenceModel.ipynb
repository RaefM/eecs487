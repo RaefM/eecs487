{
 "cells": [
  {
   "cell_type": "code",
   "execution_count": 9,
   "metadata": {},
   "outputs": [
    {
     "name": "stdout",
     "output_type": "stream",
     "text": [
      "The autoreload extension is already loaded. To reload it, use:\n",
      "  %reload_ext autoreload\n"
     ]
    }
   ],
   "source": [
    "%load_ext autoreload\n",
    "%autoreload 2\n",
    "\n",
    "import pandas as pd\n",
    "import torch\n",
    "from coherenceModel import *\n",
    "from torch.utils.data import DataLoader\n",
    "from sklearn.model_selection import train_test_split"
   ]
  },
  {
   "cell_type": "code",
   "execution_count": 10,
   "metadata": {},
   "outputs": [
    {
     "data": {
      "text/html": [
       "<div>\n",
       "<style scoped>\n",
       "    .dataframe tbody tr th:only-of-type {\n",
       "        vertical-align: middle;\n",
       "    }\n",
       "\n",
       "    .dataframe tbody tr th {\n",
       "        vertical-align: top;\n",
       "    }\n",
       "\n",
       "    .dataframe thead th {\n",
       "        text-align: right;\n",
       "    }\n",
       "</style>\n",
       "<table border=\"1\" class=\"dataframe\">\n",
       "  <thead>\n",
       "    <tr style=\"text-align: right;\">\n",
       "      <th></th>\n",
       "      <th>paragraph</th>\n",
       "      <th>is_coherent</th>\n",
       "    </tr>\n",
       "  </thead>\n",
       "  <tbody>\n",
       "    <tr>\n",
       "      <th>0</th>\n",
       "      <td>The preflight inspection of the fuel tanks by ...</td>\n",
       "      <td>1</td>\n",
       "    </tr>\n",
       "    <tr>\n",
       "      <th>1</th>\n",
       "      <td>The pilot reported that he was cleared to 4,00...</td>\n",
       "      <td>1</td>\n",
       "    </tr>\n",
       "    <tr>\n",
       "      <th>2</th>\n",
       "      <td>The instrument-rated private pilot lost contro...</td>\n",
       "      <td>1</td>\n",
       "    </tr>\n",
       "    <tr>\n",
       "      <th>3</th>\n",
       "      <td>The non-instrument rated private pilot was rec...</td>\n",
       "      <td>1</td>\n",
       "    </tr>\n",
       "    <tr>\n",
       "      <th>4</th>\n",
       "      <td>The commercial pilot reported a partial power ...</td>\n",
       "      <td>1</td>\n",
       "    </tr>\n",
       "    <tr>\n",
       "      <th>...</th>\n",
       "      <td>...</td>\n",
       "      <td>...</td>\n",
       "    </tr>\n",
       "    <tr>\n",
       "      <th>2095</th>\n",
       "      <td>THE FUEL SELECTOR WAS POSITIONED ON THE RIGHT ...</td>\n",
       "      <td>0</td>\n",
       "    </tr>\n",
       "    <tr>\n",
       "      <th>2096</th>\n",
       "      <td>DURING AN INTENTIONAL MANEUVER TO AVOID A HOME...</td>\n",
       "      <td>0</td>\n",
       "    </tr>\n",
       "    <tr>\n",
       "      <th>2097</th>\n",
       "      <td>RESIDUAL FUEL WAS FOUND IN THE CARBURETOR BOWL...</td>\n",
       "      <td>0</td>\n",
       "    </tr>\n",
       "    <tr>\n",
       "      <th>2098</th>\n",
       "      <td>AT A 75% POWER SETTING, FUEL FLOW IS ABOUT 10....</td>\n",
       "      <td>0</td>\n",
       "    </tr>\n",
       "    <tr>\n",
       "      <th>2099</th>\n",
       "      <td>FUEL AND AIRPLANE RECORDS REVEALED THE AIRPLAN...</td>\n",
       "      <td>0</td>\n",
       "    </tr>\n",
       "  </tbody>\n",
       "</table>\n",
       "<p>2100 rows × 2 columns</p>\n",
       "</div>"
      ],
      "text/plain": [
       "                                              paragraph  is_coherent\n",
       "0     The preflight inspection of the fuel tanks by ...            1\n",
       "1     The pilot reported that he was cleared to 4,00...            1\n",
       "2     The instrument-rated private pilot lost contro...            1\n",
       "3     The non-instrument rated private pilot was rec...            1\n",
       "4     The commercial pilot reported a partial power ...            1\n",
       "...                                                 ...          ...\n",
       "2095  THE FUEL SELECTOR WAS POSITIONED ON THE RIGHT ...            0\n",
       "2096  DURING AN INTENTIONAL MANEUVER TO AVOID A HOME...            0\n",
       "2097  RESIDUAL FUEL WAS FOUND IN THE CARBURETOR BOWL...            0\n",
       "2098  AT A 75% POWER SETTING, FUEL FLOW IS ABOUT 10....            0\n",
       "2099  FUEL AND AIRPLANE RECORDS REVEALED THE AIRPLAN...            0\n",
       "\n",
       "[2100 rows x 2 columns]"
      ]
     },
     "execution_count": 10,
     "metadata": {},
     "output_type": "execute_result"
    }
   ],
   "source": [
    "paragraph_df = pd.read_csv('aviationPerms.csv')\n",
    "paragraph_df"
   ]
  },
  {
   "cell_type": "code",
   "execution_count": 11,
   "metadata": {},
   "outputs": [
    {
     "name": "stdout",
     "output_type": "stream",
     "text": [
      "Routine air work was performed and then touch-and-go landing practice was planned. The approach and landing on runway 34 was normal. During the takeoff roll the pilot noticed that unusual stick forces were required to raise the tail wheel. FAA inspectors examined the airplane and did not report finding any trim or control system irregularity; however, the fuselage distortion precluded a complete examination. He saw a row of sailplanes parked on runway 30 in his path and elected to turn off the runway into sagebrush and grass. He decided to abort the takeoff and applied forward stick to prevent the airplane from leaping off the runway in a stalled condition. The trim setting was rechecked and confirmed. The pilot added some additional nose down trim, but no relief of stick pressure was noticed. He was drifting to the right and approaching the intersection of runway 30 at this time. The right main landing gear fell into a ditch and collapsed, buckling and distorting the fuselage. Trim was reset for takeoff, the checklist was completed, and power was added.\n",
      "0\n"
     ]
    }
   ],
   "source": [
    "X_train, X_test, y_train, y_test = train_test_split(\n",
    "    paragraph_df.paragraph.values, \n",
    "    paragraph_df.is_coherent.values,\n",
    "    stratify = paragraph_df.is_coherent.values,\n",
    "    test_size = 0.1, \n",
    "    random_state = 487\n",
    ")\n",
    "X_train, X_val, y_train, y_val = train_test_split(\n",
    "    X_train, \n",
    "    y_train,\n",
    "    stratify = y_train,\n",
    "    test_size = 0.2, \n",
    "    random_state = 487\n",
    ")\n",
    "print(X_train[0])\n",
    "print(y_train[0])"
   ]
  },
  {
   "cell_type": "code",
   "execution_count": 96,
   "metadata": {},
   "outputs": [
    {
     "name": "stdout",
     "output_type": "stream",
     "text": [
      "[==================================================] 100.0% 66.0/66.0MB downloaded\n"
     ]
    }
   ],
   "source": [
    "import gensim.downloader\n",
    "embed = gensim.downloader.load(\"glove-wiki-gigaword-50\")"
   ]
  },
  {
   "cell_type": "code",
   "execution_count": 147,
   "metadata": {},
   "outputs": [],
   "source": [
    "train_data = WindowedParDataset(X_train, y_train, embed, 5)\n",
    "dev_data = WindowedParDataset(X_val, y_val, embed, 5)\n",
    "test_data = WindowedParDataset(X_test, y_test, embed, 5)"
   ]
  },
  {
   "cell_type": "code",
   "execution_count": 148,
   "metadata": {},
   "outputs": [],
   "source": [
    "train_loader = DataLoader(train_data, batch_size=25, collate_fn=basic_collate_fn, shuffle=True)\n",
    "dev_loader = DataLoader(dev_data, batch_size=25, collate_fn=basic_collate_fn, shuffle=True)\n",
    "test_loader = DataLoader(test_data, batch_size=25, collate_fn=basic_collate_fn, shuffle=False)"
   ]
  },
  {
   "cell_type": "code",
   "execution_count": 7,
   "metadata": {},
   "outputs": [
    {
     "name": "stdout",
     "output_type": "stream",
     "text": [
      "cuda\n"
     ]
    }
   ],
   "source": [
    "device = 'cuda' if torch.cuda.is_available() else 'cpu'\n",
    "print(device)"
   ]
  },
  {
   "cell_type": "code",
   "execution_count": 115,
   "metadata": {},
   "outputs": [
    {
     "data": {
      "text/plain": [
       "tensor([20.], device='cuda:0')"
      ]
     },
     "execution_count": 115,
     "metadata": {},
     "output_type": "execute_result"
    }
   ],
   "source": [
    "num_pos = len(paragraph_df[paragraph_df[\"is_coherent\"] == 1])\n",
    "num_neg = len(paragraph_df[paragraph_df[\"is_coherent\"] == 0])\n",
    "pos_weight = torch.Tensor([num_neg / num_pos]).to(device)\n",
    "pos_weight"
   ]
  },
  {
   "cell_type": "code",
   "execution_count": 165,
   "metadata": {},
   "outputs": [
    {
     "name": "stdout",
     "output_type": "stream",
     "text": [
      "------------------------ Start Training ------------------------\n",
      "Epoch No. 1--Iteration No. 106-- batch loss = 2.9887\n",
      "Validation UAR: 0.6250\n",
      "Validation accuracy: 0.8242\n",
      "Validation loss: 1.2751\n",
      "Epoch No. 2--Iteration No. 212-- batch loss = 2.1764\n",
      "Validation UAR: 0.6833\n",
      "Validation accuracy: 0.4039\n",
      "Validation loss: 1.1810\n",
      "Epoch No. 3--Iteration No. 318-- batch loss = 1.4397\n",
      "Validation UAR: 0.7359\n",
      "Validation accuracy: 0.6048\n",
      "Validation loss: 0.9848\n",
      "Epoch No. 4--Iteration No. 424-- batch loss = 0.5504\n",
      "Validation UAR: 0.7886\n",
      "Validation accuracy: 0.7696\n",
      "Validation loss: 0.8468\n",
      "Epoch No. 5--Iteration No. 530-- batch loss = 0.6633\n",
      "Validation UAR: 0.8008\n",
      "Validation accuracy: 0.8647\n",
      "Validation loss: 0.7859\n",
      "Epoch No. 6--Iteration No. 636-- batch loss = 0.5263\n",
      "Validation UAR: 0.8761\n",
      "Validation accuracy: 0.7999\n",
      "Validation loss: 0.6641\n",
      "Epoch No. 7--Iteration No. 742-- batch loss = 0.7963\n",
      "Validation UAR: 0.8824\n",
      "Validation accuracy: 0.7905\n",
      "Validation loss: 0.6253\n",
      "Epoch No. 8--Iteration No. 848-- batch loss = 0.8395\n",
      "Validation UAR: 0.8699\n",
      "Validation accuracy: 0.8670\n",
      "Validation loss: 0.5947\n",
      "Epoch No. 9--Iteration No. 954-- batch loss = 1.0177\n",
      "Validation UAR: 0.8930\n",
      "Validation accuracy: 0.8033\n",
      "Validation loss: 0.5780\n",
      "Epoch No. 10--Iteration No. 1060-- batch loss = 0.4634\n",
      "Validation UAR: 0.8647\n",
      "Validation accuracy: 0.8787\n",
      "Validation loss: 0.5790\n",
      "Epoch No. 11--Iteration No. 1166-- batch loss = 0.4060\n",
      "Validation UAR: 0.9133\n",
      "Validation accuracy: 0.8348\n",
      "Validation loss: 0.5166\n",
      "Epoch No. 12--Iteration No. 1272-- batch loss = 1.8761\n",
      "Validation UAR: 0.8918\n",
      "Validation accuracy: 0.7939\n",
      "Validation loss: 0.5540\n",
      "Epoch No. 13--Iteration No. 1378-- batch loss = 0.1887\n",
      "Validation UAR: 0.9103\n",
      "Validation accuracy: 0.8579\n",
      "Validation loss: 0.5028\n",
      "Epoch No. 14--Iteration No. 1484-- batch loss = 1.5742\n",
      "Validation UAR: 0.8880\n",
      "Validation accuracy: 0.7867\n",
      "Validation loss: 0.5715\n",
      "Epoch No. 15--Iteration No. 1590-- batch loss = 0.5520\n",
      "Validation UAR: 0.9077\n",
      "Validation accuracy: 0.8242\n",
      "Validation loss: 0.4894\n",
      "Training lasted 1.25 minutes\n",
      "------------------------ Training Done ------------------------\n"
     ]
    },
    {
     "data": {
      "image/png": "[encoded data removed]",
      "text/plain": [
       "<Figure size 640x480 with 1 Axes>"
      ]
     },
     "metadata": {},
     "output_type": "display_data"
    }
   ],
   "source": [
    "# test on validation to see if overfit is possible\n",
    "ffnn = FFNN(5, device)\n",
    "ffnn.to(device)\n",
    "optim = get_optimizer(ffnn, lr=1e-2, weight_decay=0)\n",
    "best_model, stats = train_model(ffnn, dev_loader, dev_loader, optim, pos_weight=pos_weight,\n",
    "                                num_epoch=15, collect_cycle=20, device=device, patience=None)\n",
    "plot_loss(stats)"
   ]
  },
  {
   "cell_type": "code",
   "execution_count": 166,
   "metadata": {},
   "outputs": [],
   "source": [
    "################ SET THIS TO CHANGE WINDOW SIZE OF THINGS BELOW:\n",
    "wsize = 5\n",
    "################\n",
    "train_data = WindowedParDataset(X_train, y_train, embed, wsize)\n",
    "dev_data = WindowedParDataset(X_val, y_val, embed, wsize)\n",
    "test_data = WindowedParDataset(X_test, y_test, embed, wsize)\n",
    "train_loader = DataLoader(train_data, batch_size=25, collate_fn=basic_collate_fn, shuffle=True)\n",
    "dev_loader = DataLoader(dev_data, batch_size=25, collate_fn=basic_collate_fn, shuffle=True)\n",
    "test_loader = DataLoader(test_data, batch_size=25, collate_fn=basic_collate_fn, shuffle=False)"
   ]
  },
  {
   "cell_type": "code",
   "execution_count": null,
   "metadata": {},
   "outputs": [
    {
     "name": "stdout",
     "output_type": "stream",
     "text": [
      "learning rate from: [0.01]\n",
      "weight_decay from: [0.01, 0.1, 0.25, 0.5, 1.0, 1.25, 2.0, 2.5, 5.0]\n",
      "window from: [5]\n"
     ]
    },
    {
     "data": {
      "application/vnd.jupyter.widget-view+json": {
       "model_id": "f0a4652f676146b39ca0636901829c22",
       "version_major": 2,
       "version_minor": 0
      },
      "text/plain": [
       "  0%|          | 0/9 [00:00<?, ?it/s]"
      ]
     },
     "metadata": {},
     "output_type": "display_data"
    },
    {
     "name": "stdout",
     "output_type": "stream",
     "text": [
      "------------------------ Start Training ------------------------\n",
      "Epoch No. 1--Iteration No. 422-- batch loss = 0.5795\n",
      "Validation UAR: 0.5000\n",
      "Validation accuracy: 0.9523\n",
      "Validation loss: 1.3440\n",
      "Epoch No. 2--Iteration No. 844-- batch loss = 0.7199\n",
      "Validation UAR: 0.4967\n",
      "Validation accuracy: 0.8454\n",
      "Validation loss: 1.3203\n",
      "Epoch No. 3--Iteration No. 1266-- batch loss = 0.5908\n",
      "Validation UAR: 0.5000\n",
      "Validation accuracy: 0.9523\n",
      "Validation loss: 1.3428\n",
      "Epoch No. 4--Iteration No. 1688-- batch loss = 0.7395\n",
      "Validation UAR: 0.5022\n",
      "Validation accuracy: 0.0519\n",
      "Validation loss: 1.3245\n",
      "Epoch No. 5--Iteration No. 2110-- batch loss = 7.7145\n",
      "Validation UAR: 0.4943\n",
      "Validation accuracy: 0.1016\n",
      "Validation loss: 1.3238\n",
      "Epoch No. 6--Iteration No. 2532-- batch loss = 0.6943\n",
      "Validation UAR: 0.4996\n",
      "Validation accuracy: 0.7075\n",
      "Validation loss: 1.3237\n",
      "Epoch No. 7--Iteration No. 2954-- batch loss = 0.6977\n",
      "Validation UAR: 0.4981\n",
      "Validation accuracy: 0.8624\n",
      "Validation loss: 1.3199\n",
      "Epoch No. 8--Iteration No. 3376-- batch loss = 0.7085\n",
      "Validation UAR: 0.4895\n",
      "Validation accuracy: 0.0709\n",
      "Validation loss: 1.3201\n",
      "Epoch No. 9--Iteration No. 3798-- batch loss = 0.6936\n",
      "Validation UAR: 0.4970\n",
      "Validation accuracy: 0.6881\n",
      "Validation loss: 1.3197\n",
      "Epoch No. 10--Iteration No. 4220-- batch loss = 7.4091\n",
      "Validation UAR: 0.4906\n",
      "Validation accuracy: 0.1304\n",
      "Validation loss: 1.3235\n",
      "Epoch No. 11--Iteration No. 4642-- batch loss = 0.6953\n",
      "Validation UAR: 0.4590\n",
      "Validation accuracy: 0.3213\n",
      "Validation loss: 1.3196\n",
      "Epoch No. 12--Iteration No. 5064-- batch loss = 0.6927\n",
      "Validation UAR: 0.5028\n",
      "Validation accuracy: 0.8571\n",
      "Validation loss: 1.3196\n",
      "Epoch No. 13--Iteration No. 5486-- batch loss = 0.6866\n",
      "Validation UAR: 0.5081\n",
      "Validation accuracy: 0.9174\n",
      "Validation loss: 1.3197\n",
      "Epoch No. 14--Iteration No. 5908-- batch loss = 0.6860\n",
      "Validation UAR: 0.5065\n",
      "Validation accuracy: 0.9216\n",
      "Validation loss: 1.3196\n",
      "Epoch No. 15--Iteration No. 6330-- batch loss = 0.6871\n",
      "Validation UAR: 0.5065\n",
      "Validation accuracy: 0.9144\n",
      "Validation loss: 1.3196\n",
      "Epoch No. 16--Iteration No. 6752-- batch loss = 0.6877\n",
      "Validation UAR: 0.5067\n",
      "Validation accuracy: 0.9147\n",
      "Validation loss: 1.3195\n",
      "Epoch No. 17--Iteration No. 7174-- batch loss = 0.6909\n",
      "Validation UAR: 0.4969\n",
      "Validation accuracy: 0.8962\n",
      "Validation loss: 1.3195\n",
      "Epoch No. 18--Iteration No. 7596-- batch loss = 0.6920\n",
      "Validation UAR: 0.5051\n",
      "Validation accuracy: 0.8829\n",
      "Validation loss: 1.3194\n",
      "Epoch No. 19--Iteration No. 8018-- batch loss = 0.6944\n",
      "Validation UAR: 0.5003\n",
      "Validation accuracy: 0.9026\n",
      "Validation loss: 1.3234\n",
      "Epoch No. 20--Iteration No. 8440-- batch loss = 0.6899\n",
      "Validation UAR: 0.5029\n",
      "Validation accuracy: 0.9147\n",
      "Validation loss: 1.3234\n",
      "Epoch No. 21--Iteration No. 8862-- batch loss = 0.6940\n",
      "Validation UAR: 0.4910\n",
      "Validation accuracy: 0.4900\n",
      "Validation loss: 1.3233\n",
      "Epoch No. 22--Iteration No. 9284-- batch loss = 0.6912\n",
      "Validation UAR: 0.5065\n",
      "Validation accuracy: 0.9144\n",
      "Validation loss: 1.3194\n",
      "Epoch No. 23--Iteration No. 9706-- batch loss = 0.6948\n",
      "Validation UAR: 0.5054\n",
      "Validation accuracy: 0.8837\n",
      "Validation loss: 1.3194\n",
      "Epoch No. 24--Iteration No. 10128-- batch loss = 0.6906\n",
      "Validation UAR: 0.5029\n",
      "Validation accuracy: 0.9147\n",
      "Validation loss: 1.3233\n",
      "Epoch No. 25--Iteration No. 10550-- batch loss = 0.6906\n",
      "Validation UAR: 0.5029\n",
      "Validation accuracy: 0.9147\n",
      "Validation loss: 1.3194\n",
      "Epoch No. 26--Iteration No. 10972-- batch loss = 0.6915\n",
      "Validation UAR: 0.5029\n",
      "Validation accuracy: 0.9147\n",
      "Validation loss: 1.3194\n",
      "Epoch No. 27--Iteration No. 11394-- batch loss = 0.6913\n",
      "Validation UAR: 0.5029\n",
      "Validation accuracy: 0.9147\n",
      "Validation loss: 1.3194\n",
      "Epoch No. 28--Iteration No. 11816-- batch loss = 7.2496\n",
      "Validation UAR: 0.4935\n",
      "Validation accuracy: 0.0784\n",
      "Validation loss: 1.3233\n",
      "Epoch No. 29--Iteration No. 12238-- batch loss = 0.6933\n",
      "Validation UAR: 0.4979\n",
      "Validation accuracy: 0.8693\n",
      "Validation loss: 1.3194\n",
      "Epoch No. 30--Iteration No. 12660-- batch loss = 0.6910\n",
      "Validation UAR: 0.5025\n",
      "Validation accuracy: 0.9140\n",
      "Validation loss: 1.3194\n",
      "Epoch No. 31--Iteration No. 13082-- batch loss = 0.6886\n",
      "Validation UAR: 0.5029\n",
      "Validation accuracy: 0.9147\n",
      "Validation loss: 1.3194\n",
      "Epoch No. 32--Iteration No. 13504-- batch loss = 0.6901\n",
      "Validation UAR: 0.5029\n",
      "Validation accuracy: 0.9147\n",
      "Validation loss: 1.3194\n"
     ]
    }
   ],
   "source": [
    "import itertools\n",
    "from tqdm.notebook import tqdm\n",
    "\n",
    "torch.cuda.empty_cache()\n",
    "\n",
    "def search_param_utterance(wsize):\n",
    "    \"\"\"Experiemnt on different hyper parameters.\"\"\"\n",
    "    learning_rate, weight_decay = get_hyper_parameters()\n",
    "    window_sizes = [wsize]\n",
    "    print(\"learning rate from: {}\\nweight_decay from: {}\\nwindow from: {}\".format(\n",
    "        learning_rate, weight_decay, window_sizes\n",
    "    ))\n",
    "    best_model, best_stats = None, None\n",
    "    best_accuracy, best_lr, best_wd, best_window_size = 0, 0, 0, 0\n",
    "    for lr, wd, window_size in tqdm(itertools.product(learning_rate, weight_decay, window_sizes),\n",
    "                           total=len(learning_rate) * len(weight_decay) * len(window_sizes)):\n",
    "        net = FFNN(window_size, device).to(device)\n",
    "        optim = get_optimizer(net, lr=lr, weight_decay=wd)\n",
    "        model, stats = train_model(net, train_loader, dev_loader, optim, pos_weight=pos_weight, \n",
    "                                   num_epoch=100, collect_cycle=500, device=device, \n",
    "                                   verbose=True, patience=25, stopping_criteria='accuracy')\n",
    "        # print accuracy\n",
    "        print(f\"{(lr, wd, window_size)}: {stats['accuracy']}\")\n",
    "        # update best parameters if needed\n",
    "        if stats['accuracy'] > best_accuracy:\n",
    "            best_accuracy = stats['accuracy']\n",
    "            best_model, best_stats = model, stats\n",
    "            best_lr, best_wd, best_window_size = lr, wd, window_size\n",
    "            torch.save(best_model.state_dict(), 'best_rnn.pt')\n",
    "    print(\"\\n\\nBest learning rate: {}, best weight_decay: {}, best window: {}\".format(\n",
    "        best_lr, best_wd, best_window_size))\n",
    "    print(\"Accuracy: {:.4f}\".format(best_accuracy))\n",
    "    plot_loss(best_stats)\n",
    "    return best_model\n",
    "basic_model = search_param_utterance(5)"
   ]
  },
  {
   "cell_type": "code",
   "execution_count": null,
   "metadata": {},
   "outputs": [],
   "source": [
    "uar, accuracy, total_loss = get_validation_performance(\n",
    "    basic_model, \n",
    "    nn.BCEWithLogitsLoss(pos_weight=pos_weight), \n",
    "    test_loader, \n",
    "    device\n",
    ")\n",
    "print(\"Test UAR: {:.4f}\".format(uar))\n",
    "print(\"Test accuracy: {:.4f}\".format(accuracy))\n",
    "print(\"Test loss: {:.4f}\".format(loss))"
   ]
  }
 ],
 "metadata": {
  "kernelspec": {
   "display_name": "Python 3 (ipykernel)",
   "language": "python",
   "name": "python3"
  },
  "language_info": {
   "codemirror_mode": {
    "name": "ipython",
    "version": 3
   },
   "file_extension": ".py",
   "mimetype": "text/x-python",
   "name": "python",
   "nbconvert_exporter": "python",
   "pygments_lexer": "ipython3",
   "version": "3.8.10"
  }
 },
 "nbformat": 4,
 "nbformat_minor": 4
}
