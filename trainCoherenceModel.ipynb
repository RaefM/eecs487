{
 "cells": [
  {
   "cell_type": "code",
   "execution_count": 9,
   "metadata": {},
   "outputs": [
    {
     "name": "stdout",
     "output_type": "stream",
     "text": [
      "The autoreload extension is already loaded. To reload it, use:\n",
      "  %reload_ext autoreload\n"
     ]
    }
   ],
   "source": [
    "%load_ext autoreload\n",
    "%autoreload 2\n",
    "\n",
    "import pandas as pd\n",
    "import torch\n",
    "from coherenceModel import *\n",
    "from torch.utils.data import DataLoader\n",
    "from sklearn.model_selection import train_test_split"
   ]
  },
  {
   "cell_type": "code",
   "execution_count": 10,
   "metadata": {},
   "outputs": [
    {
     "data": {
      "text/html": [
       "<div>\n",
       "<style scoped>\n",
       "    .dataframe tbody tr th:only-of-type {\n",
       "        vertical-align: middle;\n",
       "    }\n",
       "\n",
       "    .dataframe tbody tr th {\n",
       "        vertical-align: top;\n",
       "    }\n",
       "\n",
       "    .dataframe thead th {\n",
       "        text-align: right;\n",
       "    }\n",
       "</style>\n",
       "<table border=\"1\" class=\"dataframe\">\n",
       "  <thead>\n",
       "    <tr style=\"text-align: right;\">\n",
       "      <th></th>\n",
       "      <th>paragraph</th>\n",
       "      <th>is_coherent</th>\n",
       "    </tr>\n",
       "  </thead>\n",
       "  <tbody>\n",
       "    <tr>\n",
       "      <th>0</th>\n",
       "      <td>The preflight inspection of the fuel tanks by ...</td>\n",
       "      <td>1</td>\n",
       "    </tr>\n",
       "    <tr>\n",
       "      <th>1</th>\n",
       "      <td>The pilot reported that he was cleared to 4,00...</td>\n",
       "      <td>1</td>\n",
       "    </tr>\n",
       "    <tr>\n",
       "      <th>2</th>\n",
       "      <td>The instrument-rated private pilot lost contro...</td>\n",
       "      <td>1</td>\n",
       "    </tr>\n",
       "    <tr>\n",
       "      <th>3</th>\n",
       "      <td>The non-instrument rated private pilot was rec...</td>\n",
       "      <td>1</td>\n",
       "    </tr>\n",
       "    <tr>\n",
       "      <th>4</th>\n",
       "      <td>The commercial pilot reported a partial power ...</td>\n",
       "      <td>1</td>\n",
       "    </tr>\n",
       "    <tr>\n",
       "      <th>...</th>\n",
       "      <td>...</td>\n",
       "      <td>...</td>\n",
       "    </tr>\n",
       "    <tr>\n",
       "      <th>2095</th>\n",
       "      <td>THE FUEL SELECTOR WAS POSITIONED ON THE RIGHT ...</td>\n",
       "      <td>0</td>\n",
       "    </tr>\n",
       "    <tr>\n",
       "      <th>2096</th>\n",
       "      <td>DURING AN INTENTIONAL MANEUVER TO AVOID A HOME...</td>\n",
       "      <td>0</td>\n",
       "    </tr>\n",
       "    <tr>\n",
       "      <th>2097</th>\n",
       "      <td>RESIDUAL FUEL WAS FOUND IN THE CARBURETOR BOWL...</td>\n",
       "      <td>0</td>\n",
       "    </tr>\n",
       "    <tr>\n",
       "      <th>2098</th>\n",
       "      <td>AT A 75% POWER SETTING, FUEL FLOW IS ABOUT 10....</td>\n",
       "      <td>0</td>\n",
       "    </tr>\n",
       "    <tr>\n",
       "      <th>2099</th>\n",
       "      <td>FUEL AND AIRPLANE RECORDS REVEALED THE AIRPLAN...</td>\n",
       "      <td>0</td>\n",
       "    </tr>\n",
       "  </tbody>\n",
       "</table>\n",
       "<p>2100 rows × 2 columns</p>\n",
       "</div>"
      ],
      "text/plain": [
       "                                              paragraph  is_coherent\n",
       "0     The preflight inspection of the fuel tanks by ...            1\n",
       "1     The pilot reported that he was cleared to 4,00...            1\n",
       "2     The instrument-rated private pilot lost contro...            1\n",
       "3     The non-instrument rated private pilot was rec...            1\n",
       "4     The commercial pilot reported a partial power ...            1\n",
       "...                                                 ...          ...\n",
       "2095  THE FUEL SELECTOR WAS POSITIONED ON THE RIGHT ...            0\n",
       "2096  DURING AN INTENTIONAL MANEUVER TO AVOID A HOME...            0\n",
       "2097  RESIDUAL FUEL WAS FOUND IN THE CARBURETOR BOWL...            0\n",
       "2098  AT A 75% POWER SETTING, FUEL FLOW IS ABOUT 10....            0\n",
       "2099  FUEL AND AIRPLANE RECORDS REVEALED THE AIRPLAN...            0\n",
       "\n",
       "[2100 rows x 2 columns]"
      ]
     },
     "execution_count": 10,
     "metadata": {},
     "output_type": "execute_result"
    }
   ],
   "source": [
    "paragraph_df = pd.read_csv('aviationPerms.csv')\n",
    "paragraph_df"
   ]
  },
  {
   "cell_type": "code",
   "execution_count": 11,
   "metadata": {},
   "outputs": [
    {
     "name": "stdout",
     "output_type": "stream",
     "text": [
      "Routine air work was performed and then touch-and-go landing practice was planned. The approach and landing on runway 34 was normal. During the takeoff roll the pilot noticed that unusual stick forces were required to raise the tail wheel. FAA inspectors examined the airplane and did not report finding any trim or control system irregularity; however, the fuselage distortion precluded a complete examination. He saw a row of sailplanes parked on runway 30 in his path and elected to turn off the runway into sagebrush and grass. He decided to abort the takeoff and applied forward stick to prevent the airplane from leaping off the runway in a stalled condition. The trim setting was rechecked and confirmed. The pilot added some additional nose down trim, but no relief of stick pressure was noticed. He was drifting to the right and approaching the intersection of runway 30 at this time. The right main landing gear fell into a ditch and collapsed, buckling and distorting the fuselage. Trim was reset for takeoff, the checklist was completed, and power was added.\n",
      "0\n"
     ]
    }
   ],
   "source": [
    "X_train, X_test, y_train, y_test = train_test_split(\n",
    "    paragraph_df.paragraph.values, \n",
    "    paragraph_df.is_coherent.values,\n",
    "    stratify = paragraph_df.is_coherent.values,\n",
    "    test_size = 0.1, \n",
    "    random_state = 487\n",
    ")\n",
    "X_train, X_val, y_train, y_val = train_test_split(\n",
    "    X_train, \n",
    "    y_train,\n",
    "    stratify = y_train,\n",
    "    test_size = 0.2, \n",
    "    random_state = 487\n",
    ")\n",
    "print(X_train[0])\n",
    "print(y_train[0])"
   ]
  },
  {
   "cell_type": "code",
   "execution_count": 4,
   "metadata": {},
   "outputs": [],
   "source": [
    "embed = KeyedVectors.load('vectors.kv')"
   ]
  },
  {
   "cell_type": "code",
   "execution_count": 71,
   "metadata": {},
   "outputs": [],
   "source": [
    "train_data = WindowedParDataset(X_train, y_train, embed, 5)\n",
    "dev_data = WindowedParDataset(X_val, y_val, embed, 5)\n",
    "test_data = WindowedParDataset(X_test, y_test, embed, 5)"
   ]
  },
  {
   "cell_type": "code",
   "execution_count": 72,
   "metadata": {},
   "outputs": [],
   "source": [
    "train_loader = DataLoader(train_data, batch_size=25, collate_fn=basic_collate_fn, shuffle=True)\n",
    "dev_loader = DataLoader(dev_data, batch_size=25, collate_fn=basic_collate_fn, shuffle=True)\n",
    "test_loader = DataLoader(test_data, batch_size=25, collate_fn=basic_collate_fn, shuffle=False)"
   ]
  },
  {
   "cell_type": "code",
   "execution_count": 7,
   "metadata": {},
   "outputs": [
    {
     "name": "stdout",
     "output_type": "stream",
     "text": [
      "cuda\n"
     ]
    }
   ],
   "source": [
    "device = 'cuda' if torch.cuda.is_available() else 'cpu'\n",
    "print(device)"
   ]
  },
  {
   "cell_type": "code",
   "execution_count": 73,
   "metadata": {},
   "outputs": [
    {
     "data": {
      "text/plain": [
       "tensor([20.], device='cuda:0')"
      ]
     },
     "execution_count": 73,
     "metadata": {},
     "output_type": "execute_result"
    }
   ],
   "source": [
    "num_pos = len(paragraph_df[paragraph_df[\"is_coherent\"] == 1])\n",
    "num_neg = len(paragraph_df[paragraph_df[\"is_coherent\"] == 0])\n",
    "pos_weight = torch.Tensor([num_neg / num_pos]).to(device)\n",
    "pos_weight"
   ]
  },
  {
   "cell_type": "code",
   "execution_count": 74,
   "metadata": {},
   "outputs": [
    {
     "name": "stdout",
     "output_type": "stream",
     "text": [
      "------------------------ Start Training ------------------------\n",
      "Epoch No. 1--Iteration No. 106-- batch loss = 0.9014\n",
      "Validation accuracy: 0.6033\n",
      "Validation loss: 1.2496\n",
      "Epoch No. 2--Iteration No. 212-- batch loss = 3.4147\n",
      "Validation accuracy: 0.5151\n",
      "Validation loss: 1.5262\n",
      "Epoch No. 3--Iteration No. 318-- batch loss = 0.5177\n",
      "Validation accuracy: 0.8134\n",
      "Validation loss: 0.8021\n",
      "Epoch No. 4--Iteration No. 424-- batch loss = 0.7412\n",
      "Validation accuracy: 0.8421\n",
      "Validation loss: 0.7415\n",
      "Epoch No. 5--Iteration No. 530-- batch loss = 0.3398\n",
      "Validation accuracy: 0.8415\n",
      "Validation loss: 0.7358\n",
      "Epoch No. 6--Iteration No. 636-- batch loss = 0.7997\n",
      "Validation accuracy: 0.8614\n",
      "Validation loss: 0.6524\n",
      "Epoch No. 7--Iteration No. 742-- batch loss = 0.3304\n",
      "Validation accuracy: 0.8845\n",
      "Validation loss: 0.5857\n",
      "Epoch No. 8--Iteration No. 848-- batch loss = 0.1679\n",
      "Validation accuracy: 0.8156\n",
      "Validation loss: 0.6045\n",
      "Epoch No. 9--Iteration No. 954-- batch loss = 0.1306\n",
      "Validation accuracy: 0.9064\n",
      "Validation loss: 0.5015\n",
      "Epoch No. 10--Iteration No. 1060-- batch loss = 0.7886\n",
      "Validation accuracy: 0.9181\n",
      "Validation loss: 0.4747\n",
      "Epoch No. 11--Iteration No. 1166-- batch loss = 0.1543\n",
      "Validation accuracy: 0.9207\n",
      "Validation loss: 0.4397\n",
      "Epoch No. 12--Iteration No. 1272-- batch loss = 0.5895\n",
      "Validation accuracy: 0.9234\n",
      "Validation loss: 0.4218\n",
      "Epoch No. 13--Iteration No. 1378-- batch loss = 0.5651\n",
      "Validation accuracy: 0.9149\n",
      "Validation loss: 0.4220\n",
      "Epoch No. 14--Iteration No. 1484-- batch loss = 1.1070\n",
      "Validation accuracy: 0.9308\n",
      "Validation loss: 0.3756\n",
      "Epoch No. 15--Iteration No. 1590-- batch loss = 0.5356\n",
      "Validation accuracy: 0.9290\n",
      "Validation loss: 0.4021\n",
      "Training lasted 1.49 minutes\n",
      "------------------------ Training Done ------------------------\n"
     ]
    },
    {
     "data": {
      "image/png": "[encoded data removed]",
      "text/plain": [
       "<Figure size 640x480 with 1 Axes>"
      ]
     },
     "metadata": {},
     "output_type": "display_data"
    }
   ],
   "source": [
    "# test on validation to see if overfit is possible\n",
    "ffnn = FFNN(200, 200, False, 5, device)\n",
    "ffnn.to(device)\n",
    "optim = get_optimizer(ffnn, lr=1e-2, weight_decay=0)\n",
    "best_model, stats = train_model(ffnn, dev_loader, dev_loader, optim, pos_weight=pos_weight,\n",
    "                                num_epoch=15, collect_cycle=20, device=device, patience=None)\n",
    "plot_loss(stats)"
   ]
  },
  {
   "cell_type": "code",
   "execution_count": null,
   "metadata": {},
   "outputs": [
    {
     "name": "stdout",
     "output_type": "stream",
     "text": [
      "hidden dimension from: [600]\n",
      "learning rate from: [0.01]\n",
      "weight_decay from: [0.01, 0.1, 0.25, 0.5, 1.0, 1.25, 2.0, 2.5, 5.0]\n",
      "window from: [5]\n"
     ]
    },
    {
     "data": {
      "application/vnd.jupyter.widget-view+json": {
       "model_id": "54337f0508e5407aac4e729524408d02",
       "version_major": 2,
       "version_minor": 0
      },
      "text/plain": [
       "  0%|          | 0/9 [00:00<?, ?it/s]"
      ]
     },
     "metadata": {},
     "output_type": "display_data"
    },
    {
     "name": "stdout",
     "output_type": "stream",
     "text": [
      "------------------------ Start Training ------------------------\n",
      "Epoch No. 1--Iteration No. 422-- batch loss = 0.6847\n",
      "Validation accuracy: 0.5000\n",
      "Validation loss: 1.3190\n",
      "Epoch No. 2--Iteration No. 844-- batch loss = 0.7036\n",
      "Validation accuracy: 0.5000\n",
      "Validation loss: 1.3194\n",
      "Epoch No. 3--Iteration No. 1266-- batch loss = 0.7002\n",
      "Validation accuracy: 0.5000\n",
      "Validation loss: 1.3232\n",
      "Epoch No. 4--Iteration No. 1688-- batch loss = 7.2465\n",
      "Validation accuracy: 0.5000\n",
      "Validation loss: 1.3196\n",
      "Epoch No. 5--Iteration No. 2110-- batch loss = 0.6999\n",
      "Validation accuracy: 0.5000\n",
      "Validation loss: 1.3232\n",
      "Epoch No. 6--Iteration No. 2532-- batch loss = 0.6916\n",
      "Validation accuracy: 0.5371\n",
      "Validation loss: 1.3190\n",
      "Epoch No. 7--Iteration No. 2954-- batch loss = 0.6926\n",
      "Validation accuracy: 0.5309\n",
      "Validation loss: 1.3193\n",
      "Epoch No. 8--Iteration No. 3376-- batch loss = 7.2446\n",
      "Validation accuracy: 0.4877\n",
      "Validation loss: 1.3348\n",
      "Epoch No. 9--Iteration No. 3798-- batch loss = 0.6975\n",
      "Validation accuracy: 0.4864\n",
      "Validation loss: 1.3196\n",
      "Epoch No. 10--Iteration No. 4220-- batch loss = 0.6972\n",
      "Validation accuracy: 0.5067\n",
      "Validation loss: 1.3198\n",
      "Epoch No. 11--Iteration No. 4642-- batch loss = 7.3660\n",
      "Validation accuracy: 0.4810\n",
      "Validation loss: 1.3237\n",
      "Epoch No. 12--Iteration No. 5064-- batch loss = 0.6948\n",
      "Validation accuracy: 0.5309\n",
      "Validation loss: 1.3237\n",
      "Epoch No. 13--Iteration No. 5486-- batch loss = 0.6811\n",
      "Validation accuracy: 0.5097\n",
      "Validation loss: 1.3202\n"
     ]
    }
   ],
   "source": [
    "import itertools\n",
    "from tqdm.notebook import tqdm\n",
    "\n",
    "torch.cuda.empty_cache()\n",
    "\n",
    "def search_param_utterance():\n",
    "    \"\"\"Experiemnt on different hyper parameters.\"\"\"\n",
    "    hidden_dim, learning_rate, weight_decay, window_sizes = get_hyper_parameters()\n",
    "    print(\"hidden dimension from: {}\\nlearning rate from: {}\\nweight_decay from: {}\\nwindow from: {}\".format(\n",
    "        hidden_dim, learning_rate, weight_decay, window_sizes\n",
    "    ))\n",
    "    best_model, best_stats = None, None\n",
    "    best_accuracy, best_lr, best_wd, best_hd, best_window_size = 0, 0, 0, 0, 0\n",
    "    for hd, lr, wd, window_size in tqdm(itertools.product(hidden_dim, learning_rate, weight_decay, window_sizes),\n",
    "                           total=len(hidden_dim) * len(learning_rate) * len(weight_decay) * len(window_sizes)):\n",
    "        net = FFNN(hd, 200, False, window_size, device).to(device)\n",
    "        optim = get_optimizer(net, lr=lr, weight_decay=wd)\n",
    "        model, stats = train_model(net, train_loader, dev_loader, optim, pos_weight=pos_weight, \n",
    "                                   num_epoch=200, collect_cycle=500, device=device, \n",
    "                                   verbose=True, patience=30)\n",
    "        # print accuracy\n",
    "        print(f\"{(hd, lr, wd, window_size)}: {stats['accuracy']}\")\n",
    "        # update best parameters if needed\n",
    "        if stats['accuracy'] > best_accuracy:\n",
    "            best_accuracy = stats['accuracy']\n",
    "            best_model, best_stats = model, stats\n",
    "            best_hd, best_lr, best_wd, best_window_size = hd, lr, wd, window_size\n",
    "            torch.save(best_model.state_dict(), 'best_rnn.pt')\n",
    "    print(\"\\n\\nBest hidden dimension: {}, Best learning rate: {}, best weight_decay: {}, best window: {}\".format(\n",
    "        best_hd, best_lr, best_wd, best_window_size))\n",
    "    print(\"Accuracy: {:.4f}\".format(best_accuracy))\n",
    "    plot_loss(best_stats)\n",
    "    return best_model\n",
    "basic_model = search_param_utterance()"
   ]
  }
 ],
 "metadata": {
  "kernelspec": {
   "display_name": "Python 3 (ipykernel)",
   "language": "python",
   "name": "python3"
  },
  "language_info": {
   "codemirror_mode": {
    "name": "ipython",
    "version": 3
   },
   "file_extension": ".py",
   "mimetype": "text/x-python",
   "name": "python",
   "nbconvert_exporter": "python",
   "pygments_lexer": "ipython3",
   "version": "3.8.10"
  }
 },
 "nbformat": 4,
 "nbformat_minor": 4
}
